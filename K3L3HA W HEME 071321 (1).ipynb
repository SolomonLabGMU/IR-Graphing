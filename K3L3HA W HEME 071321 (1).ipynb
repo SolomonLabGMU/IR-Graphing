{
 "cells": [
  {
   "cell_type": "code",
   "execution_count": 3,
   "metadata": {},
   "outputs": [],
   "source": [
    "#How to use\n",
    "\n",
    "#Data must be formatted with the first column titled \"v\" and every other column with the solution name ex. Heme PA, PA, and Heme\n",
    "\n",
    "#Data is taken from the data the IR gives which has to be xported as a csv and take the v values of 1570-1730 and then the solution values for these v values\n",
    "\n",
    "#File must be saved as CSV\n"
   ]
  },
  {
   "cell_type": "code",
   "execution_count": 1,
   "metadata": {},
   "outputs": [
    {
     "data": {
      "text/html": [
       "<div>\n",
       "<style scoped>\n",
       "    .dataframe tbody tr th:only-of-type {\n",
       "        vertical-align: middle;\n",
       "    }\n",
       "\n",
       "    .dataframe tbody tr th {\n",
       "        vertical-align: top;\n",
       "    }\n",
       "\n",
       "    .dataframe thead th {\n",
       "        text-align: right;\n",
       "    }\n",
       "</style>\n",
       "<table border=\"1\" class=\"dataframe\">\n",
       "  <thead>\n",
       "    <tr style=\"text-align: right;\">\n",
       "      <th></th>\n",
       "      <th>v</th>\n",
       "      <th>heme PA</th>\n",
       "      <th>PA</th>\n",
       "      <th>heme</th>\n",
       "    </tr>\n",
       "  </thead>\n",
       "  <tbody>\n",
       "    <tr>\n",
       "      <td>0</td>\n",
       "      <td>1570.7363</td>\n",
       "      <td>94.8147</td>\n",
       "      <td>102.179</td>\n",
       "      <td>106.363</td>\n",
       "    </tr>\n",
       "    <tr>\n",
       "      <td>1</td>\n",
       "      <td>1571.7006</td>\n",
       "      <td>94.7843</td>\n",
       "      <td>102.186</td>\n",
       "      <td>106.454</td>\n",
       "    </tr>\n",
       "    <tr>\n",
       "      <td>2</td>\n",
       "      <td>1572.6648</td>\n",
       "      <td>94.7774</td>\n",
       "      <td>102.196</td>\n",
       "      <td>106.592</td>\n",
       "    </tr>\n",
       "    <tr>\n",
       "      <td>3</td>\n",
       "      <td>1573.6290</td>\n",
       "      <td>94.7488</td>\n",
       "      <td>102.187</td>\n",
       "      <td>106.739</td>\n",
       "    </tr>\n",
       "    <tr>\n",
       "      <td>4</td>\n",
       "      <td>1574.5933</td>\n",
       "      <td>94.6607</td>\n",
       "      <td>102.159</td>\n",
       "      <td>106.863</td>\n",
       "    </tr>\n",
       "    <tr>\n",
       "      <td>...</td>\n",
       "      <td>...</td>\n",
       "      <td>...</td>\n",
       "      <td>...</td>\n",
       "      <td>...</td>\n",
       "    </tr>\n",
       "    <tr>\n",
       "      <td>162</td>\n",
       "      <td>1726.9421</td>\n",
       "      <td>97.6909</td>\n",
       "      <td>102.183</td>\n",
       "      <td>102.496</td>\n",
       "    </tr>\n",
       "    <tr>\n",
       "      <td>163</td>\n",
       "      <td>1727.9064</td>\n",
       "      <td>97.6425</td>\n",
       "      <td>102.170</td>\n",
       "      <td>102.549</td>\n",
       "    </tr>\n",
       "    <tr>\n",
       "      <td>164</td>\n",
       "      <td>1728.8706</td>\n",
       "      <td>97.5847</td>\n",
       "      <td>102.187</td>\n",
       "      <td>102.595</td>\n",
       "    </tr>\n",
       "    <tr>\n",
       "      <td>165</td>\n",
       "      <td>1729.8348</td>\n",
       "      <td>97.5113</td>\n",
       "      <td>102.222</td>\n",
       "      <td>102.603</td>\n",
       "    </tr>\n",
       "    <tr>\n",
       "      <td>166</td>\n",
       "      <td>1730.7991</td>\n",
       "      <td>97.4249</td>\n",
       "      <td>102.237</td>\n",
       "      <td>102.546</td>\n",
       "    </tr>\n",
       "  </tbody>\n",
       "</table>\n",
       "<p>167 rows × 4 columns</p>\n",
       "</div>"
      ],
      "text/plain": [
       "             v  heme PA       PA     heme\n",
       "0    1570.7363  94.8147  102.179  106.363\n",
       "1    1571.7006  94.7843  102.186  106.454\n",
       "2    1572.6648  94.7774  102.196  106.592\n",
       "3    1573.6290  94.7488  102.187  106.739\n",
       "4    1574.5933  94.6607  102.159  106.863\n",
       "..         ...      ...      ...      ...\n",
       "162  1726.9421  97.6909  102.183  102.496\n",
       "163  1727.9064  97.6425  102.170  102.549\n",
       "164  1728.8706  97.5847  102.187  102.595\n",
       "165  1729.8348  97.5113  102.222  102.603\n",
       "166  1730.7991  97.4249  102.237  102.546\n",
       "\n",
       "[167 rows x 4 columns]"
      ]
     },
     "execution_count": 1,
     "metadata": {},
     "output_type": "execute_result"
    }
   ],
   "source": [
    "def polyfit(x, y, degree):\n",
    "    results = {}\n",
    "    coeffs = numpy.polyfit(x, y, degree)\n",
    "    results['polynomial'] = coeffs.tolist()\n",
    "    correlation = numpy.corrcoef(x, y)[0,1]\n",
    "import numpy as np\n",
    "import matplotlib.pyplot as plt\n",
    "from scipy.optimize import curve_fit\n",
    "from matplotlib.pyplot import plot,xlabel,ylabel,title,legend\n",
    "%matplotlib inline\n",
    "import pandas as pd\n",
    "data = pd.read_csv(r\"C:\\Users\\snoda\\OneDrive\\Documents\\Research\\071321\\k3l3ha heme and no.csv\")\n",
    "data\n",
    "#This shows how the data should be formated"
   ]
  },
  {
   "cell_type": "code",
   "execution_count": 8,
   "metadata": {},
   "outputs": [
    {
     "data": {
      "text/plain": [
       "<matplotlib.legend.Legend at 0x1ab647d26c8>"
      ]
     },
     "execution_count": 8,
     "metadata": {},
     "output_type": "execute_result"
    },
    {
     "data": {
      "image/png": "[encoded data removed]",
      "text/plain": [
       "<Figure size 432x288 with 1 Axes>"
      ]
     },
     "metadata": {
      "needs_background": "light"
     },
     "output_type": "display_data"
    }
   ],
   "source": [
    "w= data[\"v\"]\n",
    "n = data[\"heme PA\"]\n",
    "c = data[\"PA\"]\n",
    "h = data[\"heme\"]\n",
    "plt.plot(w,n, label = \"Heme PA\")\n",
    "plt.plot (w,c, label = \"No Heme PA\")\n",
    "plt.plot (w,h, label = \"Heme\")\n",
    "plt.xlabel(\"v (cm-1)\")\n",
    "plt.ylabel(\"% T\")\n",
    "plt.title(\"IR K3L3HA\")\n",
    "plt.legend()\n"
   ]
  }
 ],
 "metadata": {
  "kernelspec": {
   "display_name": "Python 3",
   "language": "python",
   "name": "python3"
  },
  "language_info": {
   "codemirror_mode": {
    "name": "ipython",
    "version": 3
   },
   "file_extension": ".py",
   "mimetype": "text/x-python",
   "name": "python",
   "nbconvert_exporter": "python",
   "pygments_lexer": "ipython3",
   "version": "3.7.4"
  }
 },
 "nbformat": 4,
 "nbformat_minor": 2
}
